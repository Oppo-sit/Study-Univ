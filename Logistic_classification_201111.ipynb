{
  "nbformat": 4,
  "nbformat_minor": 0,
  "metadata": {
    "colab": {
      "name": "Logistic_classification_201111.ipynb",
      "provenance": [],
      "collapsed_sections": [],
      "authorship_tag": "ABX9TyMIo7hgDusodzswEVkPC7Nx",
      "include_colab_link": true
    },
    "kernelspec": {
      "name": "python3",
      "display_name": "Python 3"
    }
  },
  "cells": [
    {
      "cell_type": "markdown",
      "metadata": {
        "id": "view-in-github",
        "colab_type": "text"
      },
      "source": [
        "<a href=\"https://colab.research.google.com/github/Oppo-sit/Study-Univ/blob/master/Logistic_classification_201111.ipynb\" target=\"_parent\"><img src=\"https://colab.research.google.com/assets/colab-badge.svg\" alt=\"Open In Colab\"/></a>"
      ]
    },
    {
      "cell_type": "code",
      "metadata": {
        "id": "BX9Mh3eBmDzm"
      },
      "source": [
        "from sklearn.datasets import load_breast_cancer\n",
        "cancer = load_breast_cancer()"
      ],
      "execution_count": null,
      "outputs": []
    },
    {
      "cell_type": "code",
      "metadata": {
        "id": "rEXMUG6L4IQo",
        "outputId": "8ec54502-f89c-4b4e-9d0e-377995bb3584",
        "colab": {
          "base_uri": "https://localhost:8080/"
        }
      },
      "source": [
        "print(cancer.data.shape, cancer.target.shape)"
      ],
      "execution_count": null,
      "outputs": [
        {
          "output_type": "stream",
          "text": [
            "(569, 30) (569,)\n"
          ],
          "name": "stdout"
        }
      ]
    },
    {
      "cell_type": "code",
      "metadata": {
        "id": "7m7TIvdJ4PvC",
        "outputId": "67dff4a0-3055-4158-c871-79cc5a5b05a7",
        "colab": {
          "base_uri": "https://localhost:8080/"
        }
      },
      "source": [
        "cancer.data[:3]"
      ],
      "execution_count": null,
      "outputs": [
        {
          "output_type": "execute_result",
          "data": {
            "text/plain": [
              "array([[1.799e+01, 1.038e+01, 1.228e+02, 1.001e+03, 1.184e-01, 2.776e-01,\n",
              "        3.001e-01, 1.471e-01, 2.419e-01, 7.871e-02, 1.095e+00, 9.053e-01,\n",
              "        8.589e+00, 1.534e+02, 6.399e-03, 4.904e-02, 5.373e-02, 1.587e-02,\n",
              "        3.003e-02, 6.193e-03, 2.538e+01, 1.733e+01, 1.846e+02, 2.019e+03,\n",
              "        1.622e-01, 6.656e-01, 7.119e-01, 2.654e-01, 4.601e-01, 1.189e-01],\n",
              "       [2.057e+01, 1.777e+01, 1.329e+02, 1.326e+03, 8.474e-02, 7.864e-02,\n",
              "        8.690e-02, 7.017e-02, 1.812e-01, 5.667e-02, 5.435e-01, 7.339e-01,\n",
              "        3.398e+00, 7.408e+01, 5.225e-03, 1.308e-02, 1.860e-02, 1.340e-02,\n",
              "        1.389e-02, 3.532e-03, 2.499e+01, 2.341e+01, 1.588e+02, 1.956e+03,\n",
              "        1.238e-01, 1.866e-01, 2.416e-01, 1.860e-01, 2.750e-01, 8.902e-02],\n",
              "       [1.969e+01, 2.125e+01, 1.300e+02, 1.203e+03, 1.096e-01, 1.599e-01,\n",
              "        1.974e-01, 1.279e-01, 2.069e-01, 5.999e-02, 7.456e-01, 7.869e-01,\n",
              "        4.585e+00, 9.403e+01, 6.150e-03, 4.006e-02, 3.832e-02, 2.058e-02,\n",
              "        2.250e-02, 4.571e-03, 2.357e+01, 2.553e+01, 1.525e+02, 1.709e+03,\n",
              "        1.444e-01, 4.245e-01, 4.504e-01, 2.430e-01, 3.613e-01, 8.758e-02]])"
            ]
          },
          "metadata": {
            "tags": []
          },
          "execution_count": 3
        }
      ]
    },
    {
      "cell_type": "code",
      "metadata": {
        "id": "aL2SzOyc4S_q",
        "outputId": "05dee133-2fb3-49d0-956a-ad9909e6ef8e",
        "colab": {
          "base_uri": "https://localhost:8080/",
          "height": 279
        }
      },
      "source": [
        "import matplotlib.pyplot as plt\n",
        "\n",
        "plt.boxplot(cancer.data)\n",
        "plt.xlabel('x')\n",
        "plt.ylabel('y')\n",
        "plt.show()"
      ],
      "execution_count": null,
      "outputs": [
        {
          "output_type": "display_data",
          "data": {
            "image/png": "[encoded data removed]",
            "text/plain": [
              "<Figure size 432x288 with 1 Axes>"
            ]
          },
          "metadata": {
            "tags": [],
            "needs_background": "light"
          }
        }
      ]
    },
    {
      "cell_type": "code",
      "metadata": {
        "id": "X_eX6H2W4sGM",
        "outputId": "f8519d56-e970-4494-cd18-6dee682895c4",
        "colab": {
          "base_uri": "https://localhost:8080/"
        }
      },
      "source": [
        "cancer.feature_names[[3, 13, 23]]"
      ],
      "execution_count": null,
      "outputs": [
        {
          "output_type": "execute_result",
          "data": {
            "text/plain": [
              "array(['mean area', 'area error', 'worst area'], dtype='<U23')"
            ]
          },
          "metadata": {
            "tags": []
          },
          "execution_count": 6
        }
      ]
    },
    {
      "cell_type": "code",
      "metadata": {
        "id": "diBHWj965swc",
        "outputId": "0ab2ecf5-9e33-436d-ba73-95549a7370a6",
        "colab": {
          "base_uri": "https://localhost:8080/"
        }
      },
      "source": [
        "import numpy as np\n",
        "np.unique(cancer.target, return_counts=True) # 212개의 양성 클래스와 357개의 음성 클래스"
      ],
      "execution_count": null,
      "outputs": [
        {
          "output_type": "execute_result",
          "data": {
            "text/plain": [
              "(array([0, 1]), array([212, 357]))"
            ]
          },
          "metadata": {
            "tags": []
          },
          "execution_count": 8
        }
      ]
    },
    {
      "cell_type": "code",
      "metadata": {
        "id": "0_1K4XfB6JvQ"
      },
      "source": [
        "x = cancer.data\n",
        "y = cancer.target"
      ],
      "execution_count": null,
      "outputs": []
    },
    {
      "cell_type": "code",
      "metadata": {
        "id": "Uf2iviqX55X7"
      },
      "source": [
        "from sklearn.model_selection import train_test_split\n",
        "\n",
        "x_train, x_test, y_train, y_test = train_test_split(x, y, stratify=y, test_size=0.2, random_state=42)"
      ],
      "execution_count": null,
      "outputs": []
    },
    {
      "cell_type": "code",
      "metadata": {
        "id": "EVkNZvwM7HMb",
        "outputId": "fde7cce6-ca27-4526-c953-bf6e113cad4e",
        "colab": {
          "base_uri": "https://localhost:8080/"
        }
      },
      "source": [
        "print(x_train.shape, x_test.shape)"
      ],
      "execution_count": null,
      "outputs": [
        {
          "output_type": "stream",
          "text": [
            "(455, 30) (114, 30)\n"
          ],
          "name": "stdout"
        }
      ]
    },
    {
      "cell_type": "code",
      "metadata": {
        "id": "F6bbAvBP7pOh",
        "outputId": "d0ea4f3c-2f72-470b-bd69-6ce2f3c3d190",
        "colab": {
          "base_uri": "https://localhost:8080/"
        }
      },
      "source": [
        "np.unique(y_train, return_counts=True)"
      ],
      "execution_count": null,
      "outputs": [
        {
          "output_type": "execute_result",
          "data": {
            "text/plain": [
              "(array([0, 1]), array([170, 285]))"
            ]
          },
          "metadata": {
            "tags": []
          },
          "execution_count": 13
        }
      ]
    },
    {
      "cell_type": "code",
      "metadata": {
        "id": "BqH2BnWs9Tfb"
      },
      "source": [
        "class LogisticNeuron:\n",
        "\n",
        "\n",
        "  def __init__(self): # w, b(feature)의 개수가 정해지지 않았다.\n",
        "    self.w = None\n",
        "    self.b = None\n",
        "\n",
        "  def forpass(self, x):\n",
        "    z = np.sum(x * self.w + self.b)\n",
        "    return z\n",
        "\n",
        "  def activation(self, z):\n",
        "    a = 1 / (1 + np.exp(-z))\n",
        "    return a\n",
        "\n",
        "  def backprop(self, x, err):\n",
        "    w_grad = x * err  # dL/dw = -(y-a)x\n",
        "    b_grad = err  # dL/db = -(y-a)1\n",
        "    return w_grad, b_grad\n",
        "\n",
        "  def fit(self, x, y, epochs=100):\n",
        "    self.w = np.ones(x.shape[1]) #특성의 개수만큼 초기화\n",
        "    self.b = 0\n",
        "    \n",
        "    for i in range(epochs):\n",
        "      for x_i, y_i in zip(x, y):\n",
        "        z = self.forpass(x_i)\n",
        "        a = self.activation(z)\n",
        "        err = -(y_i - a)\n",
        "        w_grad, b_grad = self.backprop(x_i, err)\n",
        "        self.w -= w_grad\n",
        "        self.b -= b_grad \n",
        "\n",
        "  def predict(self, x):\n",
        "    z = [self.forpass(x) for x_i in x]\n",
        "    a = self.activation(np.array(z))\n",
        "    return a >0.5\n"
      ],
      "execution_count": null,
      "outputs": []
    },
    {
      "cell_type": "code",
      "metadata": {
        "id": "gZG40nlA-kLO",
        "outputId": "9420f691-5641-4596-dc24-dc73c632ce96",
        "colab": {
          "base_uri": "https://localhost:8080/"
        }
      },
      "source": [
        "neuron = LogisticNeuron()\n",
        "neuron.fit(x_train, y_train)"
      ],
      "execution_count": null,
      "outputs": [
        {
          "output_type": "stream",
          "text": [
            "/usr/local/lib/python3.6/dist-packages/ipykernel_launcher.py:13: RuntimeWarning: overflow encountered in exp\n",
            "  del sys.path[0]\n"
          ],
          "name": "stderr"
        }
      ]
    },
    {
      "cell_type": "code",
      "metadata": {
        "id": "yHfrvWDA_Oyz",
        "outputId": "e6564327-b12c-413c-b52d-76bfe6452a49",
        "colab": {
          "base_uri": "https://localhost:8080/"
        }
      },
      "source": [
        "np.mean(neuron.predict(x_test) == y_test)"
      ],
      "execution_count": null,
      "outputs": [
        {
          "output_type": "stream",
          "text": [
            "/usr/local/lib/python3.6/dist-packages/ipykernel_launcher.py:13: RuntimeWarning: overflow encountered in exp\n",
            "  del sys.path[0]\n"
          ],
          "name": "stderr"
        },
        {
          "output_type": "execute_result",
          "data": {
            "text/plain": [
              "0.3684210526315789"
            ]
          },
          "metadata": {
            "tags": []
          },
          "execution_count": 23
        }
      ]
    },
    {
      "cell_type": "code",
      "metadata": {
        "id": "39pLi59JCfRc"
      },
      "source": [
        "class SingleLayer:\n",
        "\n",
        "  def __init__(self): # w, b(feature)의 개수가 정해지지 않았다.\n",
        "    self.w = None\n",
        "    self.b = None\n",
        "    self.losses=[]\n",
        "\n",
        "  def forpass(self, x):\n",
        "    z = np.sum(x * self.w + self.b)\n",
        "    return z\n",
        "\n",
        "  def activation(self, z):\n",
        "    a = 1 / (1 + np.exp(-z))\n",
        "    return a\n",
        "\n",
        "  def backprop(self, x, err):\n",
        "    w_grad = x * err # dL/dw = -(y-a)x\n",
        "    b_grad = err # dL/db = -(y-a)1\n",
        "    return w_grad, b_grad\n",
        "\n",
        "  def fit(self, x, y, epochs=100):\n",
        "    self.w = np.ones(x.shape[1]) #특성의 개수만큼 초기화\n",
        "    self.b = 0\n",
        "    for i in range(epochs):\n",
        "      loss = 0\n",
        "      indexes = np.random.permutation(np.arange(len(x))) # random index -> choose orderly\n",
        "      for i in indexes:\n",
        "        z = self.forpass(x[i])\n",
        "        a = self.activation(z)\n",
        "        err = -(y[i] - a)\n",
        "        w_grad, b_grad = self.backprop(x[i], err)\n",
        "        self.w -= w_grad\n",
        "        self.b -= b_grad \n",
        "        a = np.clip(a, 1e-10, 1-1e-10) #log(a)의 값이 무한대나 0이 되지 않도록 양쪽 끝을\n",
        "        loss += -(y[i] * np.log(a) + (1-y[i]) * np.log(1-a))\n",
        "      self.losses.append(loss/len(y)) # /len(y)????\n",
        "\n",
        "  def predict(self, x):\n",
        "    z = [self.forpass(x) for x_i in x]\n",
        "    return np.array(z) > 0  # z > 0 -> a > 0.5\n",
        "  \n",
        "  def score(self, x, y):\n",
        "    return np.mean(self.predict(x) == y)\n",
        "\n"
      ],
      "execution_count": null,
      "outputs": []
    },
    {
      "cell_type": "code",
      "metadata": {
        "id": "ra7zUYxYE6Ga",
        "outputId": "c9c673f2-f9c3-419d-bdb3-86f91bfbfb5c",
        "colab": {
          "base_uri": "https://localhost:8080/"
        }
      },
      "source": [
        "layer = SingleLayer()\n",
        "layer.fit(x_train, y_train)\n",
        "layer.score(x_test, y_test)"
      ],
      "execution_count": null,
      "outputs": [
        {
          "output_type": "stream",
          "text": [
            "/usr/local/lib/python3.6/dist-packages/ipykernel_launcher.py:13: RuntimeWarning: overflow encountered in exp\n",
            "  del sys.path[0]\n"
          ],
          "name": "stderr"
        },
        {
          "output_type": "execute_result",
          "data": {
            "text/plain": [
              "0.3684210526315789"
            ]
          },
          "metadata": {
            "tags": []
          },
          "execution_count": 32
        }
      ]
    },
    {
      "cell_type": "code",
      "metadata": {
        "id": "3UvUXSxIFHaQ",
        "outputId": "2c29432c-b809-4f79-f0dc-4ee98ce0695e",
        "colab": {
          "base_uri": "https://localhost:8080/",
          "height": 279
        }
      },
      "source": [
        "plt.plot(layer.losses)\n",
        "plt.xlabel('x')\n",
        "plt.ylabel('y')\n",
        "plt.show()"
      ],
      "execution_count": null,
      "outputs": [
        {
          "output_type": "display_data",
          "data": {
            "image/png": "[encoded data removed]",
            "text/plain": [
              "<Figure size 432x288 with 1 Axes>"
            ]
          },
          "metadata": {
            "tags": [],
            "needs_background": "light"
          }
        }
      ]
    },
    {
      "cell_type": "code",
      "metadata": {
        "id": "0vqhieWCFfDM",
        "outputId": "f648a0b1-25d0-433e-e092-8c6dbb2286f2",
        "colab": {
          "base_uri": "https://localhost:8080/"
        }
      },
      "source": [
        "print(layer.losses)"
      ],
      "execution_count": null,
      "outputs": [
        {
          "output_type": "stream",
          "text": [
            "[8.906702767173579, 5.769114291731228, 4.959414039980706, 4.85820150805727, 4.402745116402143, 4.40274511658399, 3.744863662173081, 4.756988976861223, 3.69425739657506, 3.5424385994172987, 3.289407270699796, 3.23880100510177, 3.593044864833467, 3.694257396393211, 3.6942573963932097, 3.3906198018958422, 3.0363759419822958, 3.593044865015317, 2.8339508790446715, 3.2388010051017813, 3.846076193550968, 3.7954699275892536, 3.441226067493867, 3.441226067493868, 3.846076193187275, 2.2772819561934905, 3.23880100491993, 3.0363759418004515, 2.783344613082954, 3.896682458967143, 3.1375884733601853, 3.4412260673120136, 3.390619801713995, 2.4291007533512587, 3.4918323330918852, 2.7833446132648034, 2.7327383476667797, 2.277281956193492, 2.6821320820687546, 3.7448636616275404, 3.137588473360187, 3.441226067312017, 2.783344613264799, 2.9351634104225615, 3.5424385986899094, 3.289407270517946, 3.0363759419823024, 3.5930448644697766, 2.9857696762024277, 3.238801004738087, 3.390619801713998, 3.036375941800455, 3.289407270336102, 3.3400135359341268, 2.6821320818869108, 2.985769676020582, 2.833950879044668, 3.137588473178346, 3.188194738958215, 2.7833446132648008, 2.580919550509022, 3.0869822073984707, 2.631525816288885, 2.9857696758387386, 2.8845571448245404, 2.682132082068756, 2.7327383474849323, 3.086982207216622, 2.682132081886909, 2.5809195505090186, 2.9857696762024273, 2.884557144642692, 3.0363759416186054, 2.682132083039491, 2.7327383474849336, 2.985769676202429, 2.3278882219733705, 2.783344613082957, 2.580919550690862, 2.833950879044672, 2.935163410240717, 2.6315258159251926, 2.3784944877532306, 3.0363759416186076, 2.530313284729141, 3.4412260673120127, 2.9857696760205825, 2.9351634102407127, 2.8845571448245364, 3.238801004556236, 3.0363759418004506, 2.783344613264798, 1.9230380962799458, 2.6821320818869125, 2.6315258161070374, 2.6315258159251944, 2.6315258161070374, 2.935163410240715, 2.3784944875713823, 2.479707018949275]\n"
          ],
          "name": "stdout"
        }
      ]
    },
    {
      "cell_type": "code",
      "metadata": {
        "id": "jjTvYwxgFvQC"
      },
      "source": [
        "from sklearn.linear_model import SGDClassifier\n",
        "\n",
        "sgd = SGDClassifier(loss = 'log', max_iter=100, tol=1e-3, random_state=42)"
      ],
      "execution_count": null,
      "outputs": []
    },
    {
      "cell_type": "code",
      "metadata": {
        "id": "oYJc4dzyF_AF",
        "outputId": "7708a07b-4aef-4fa8-f749-042d3e3192a6",
        "colab": {
          "base_uri": "https://localhost:8080/"
        }
      },
      "source": [
        "sgd.fit(x_train, y_train)\n",
        "sgd.score(x_test, y_test)"
      ],
      "execution_count": null,
      "outputs": [
        {
          "output_type": "execute_result",
          "data": {
            "text/plain": [
              "0.8333333333333334"
            ]
          },
          "metadata": {
            "tags": []
          },
          "execution_count": 37
        }
      ]
    },
    {
      "cell_type": "code",
      "metadata": {
        "id": "iwt1e87QGUPd",
        "outputId": "3338d182-ce96-4e2e-db7f-e7d5474997d3",
        "colab": {
          "base_uri": "https://localhost:8080/"
        }
      },
      "source": [
        "sgd.predict(x_test[0:10])"
      ],
      "execution_count": null,
      "outputs": [
        {
          "output_type": "execute_result",
          "data": {
            "text/plain": [
              "array([0, 1, 0, 0, 0, 0, 1, 0, 0, 0])"
            ]
          },
          "metadata": {
            "tags": []
          },
          "execution_count": 39
        }
      ]
    },
    {
      "cell_type": "code",
      "metadata": {
        "id": "tC08xfocGZE0"
      },
      "source": [
        ""
      ],
      "execution_count": null,
      "outputs": []
    }
  ]
}