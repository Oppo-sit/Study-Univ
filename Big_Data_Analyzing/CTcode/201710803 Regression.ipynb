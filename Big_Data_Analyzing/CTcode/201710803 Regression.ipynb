{
 "cells": [
  {
   "cell_type": "markdown",
   "metadata": {},
   "source": [
    "수식을 최대한 줄이고 대신 프로그래밍으로 회귀분석을 최대한 이해/구현해본다\n",
    "\n",
    "OLS : data를 fitting할 때 오류를 최소화 하는 방법\n",
    "\n",
    "Matrix Inverse Method : 역행렬을 이용한 방법"
   ]
  },
  {
   "cell_type": "markdown",
   "metadata": {},
   "source": [
    "β or w를 조절해가며 오류를 최소화 해야 한다.\n",
    "    \n",
    "    w^=argminw(y−wx)2 함수가 최소가 되게하는 w^를 찾아보자"
   ]
  },
  {
   "cell_type": "markdown",
   "metadata": {},
   "source": [
    "변인의 개수가 지나치게 많으면 'overfitting'의 문제가 발생하여 bias의 감소의 장점보다 variance의 증가로 인한 단점이 증가한다. \n",
    "    \n",
    "    극단적으로 변수(변인)의 개수가 데이터 수보다 많아지면 variance가 무한대로 증가\n",
    "\n",
    "이를 방지하기 위해 'shrinkage' 방식으로 variance를 줄인다. (뷔페 생각하면 됨) "
   ]
  },
  {
   "cell_type": "markdown",
   "metadata": {},
   "source": [
    "# General linear Model"
   ]
  },
  {
   "cell_type": "markdown",
   "metadata": {},
   "source": [
    "GLM은 정규분포를 따르는 선형 모델로 '일반화선형모델'로 부른다.\n",
    "\n",
    "*generalized linear model은 정규 분포를 따르지 않는, 완전히 다른 용어이다."
   ]
  },
  {
   "cell_type": "markdown",
   "metadata": {},
   "source": [
    "# OLS"
   ]
  },
  {
   "cell_type": "markdown",
   "metadata": {},
   "source": [
    "ordinary least squares \n",
    "\n",
    "    실제값에 예측값을 감하여 제곱한 값으로 최소화된 값으로 최적식을 구할 수 있다.\n",
    "    제곱을 하는 이유는 음수가 나올 수 있기 때문이다.\n",
    "    OLS를 최소화 하여 회귀식을 푼다"
   ]
  },
  {
   "cell_type": "code",
   "execution_count": 1,
   "metadata": {},
   "outputs": [],
   "source": [
    "import numpy as np #공학계산이 가능하므로 리스트 대신 numpy를 사용한다\n",
    "x=np.array([1,2,3,4])\n",
    "y=np.array([6,5,7,10])"
   ]
  },
  {
   "cell_type": "code",
   "execution_count": 6,
   "metadata": {},
   "outputs": [
    {
     "data": {
      "text/plain": [
       "<matplotlib.collections.PathCollection at 0x8746828>"
      ]
     },
     "execution_count": 6,
     "metadata": {},
     "output_type": "execute_result"
    },
    {
     "data": {
      "image/png": "[encoded data removed]",
      "text/plain": [
       "<Figure size 432x288 with 1 Axes>"
      ]
     },
     "metadata": {
      "needs_background": "light"
     },
     "output_type": "display_data"
    }
   ],
   "source": [
    "%matplotlib inline\n",
    "import matplotlib.pyplot as plt\n",
    "\n",
    "fig=plt.figure()\n",
    "ax=fig.add_subplot(111) \n",
    "#subplot()에는 3개의 인자가 사용된다 - 행, 열, 순서 (왼쪽 상단 1부터 시작해서 오른쪽으로 이동). \n",
    "#즉 211은 2행 1열의 첫째, 212는 2행 1열의 둘째를 의미한다.\n",
    "ax.scatter(x,y) #위의 x, y를 좌표로 하여 나타내었다."
   ]
  },
  {
   "cell_type": "markdown",
   "metadata": {},
   "source": [
    "위의 좌표를 대표하는 그래프를 그리는데, 비선형으로 그린다면 이을 수 있겠지만, \n",
    "사실은 선형으로 모두 해결이 가능하다!\n",
    "\n",
    "우리는 그래프를 선형으로 그려 점들간의 거리, 즉, 오차를 최소화해야한다."
   ]
  },
  {
   "cell_type": "markdown",
   "metadata": {},
   "source": [
    "오차를 구하기 위한 선형 회귀식을 만들어보자.\n",
    "\n",
    "y=yhat\n",
    "\n",
    "6=β0+β1×1 \n",
    "\n",
    "5=β0+β1×2\n",
    "\n",
    "7=β0+β1×3\n",
    "\n",
    "10=β0+β1×4\n",
    "\n",
    "오류 (y−yhat)2를 최소화하는 베타 값을 구해보자\n",
    "\n",
    "6−(β0+β1×1))^2 \n",
    "\n",
    "(5−(β0+β1×2))^2\n",
    "\n",
    "(7−(β0+β1×3))^2\n",
    "\n",
    "(10−(β0+β1×4))^2\n",
    "\n",
    "위 식을 모두 더해서 총오류를 구하면:\n",
    "\n",
    "f=210+4β^20+30β^21+20β0β1−56β0−154β1\n",
    "\n",
    "위를 편미분하면:\n",
    "\n",
    "∂f/∂β0=8β0+20β1−56\n",
    "\n",
    "∂f/∂β1=20β0+60β1−154\n",
    "\n",
    "이 식으로 연립방정식을 풀면 \n",
    "\n",
    "β0=3.5 \n",
    "\n",
    "β1=1.4\n",
    "\n",
    "따라서 \n",
    "\n",
    "yhat = 3.5+1.4x\n",
    "\n",
    "\n",
    "편미분 하는 이유 f식은 이차함수, 이차함수의 최솟값을 구하기 위해 편미분을 하여 직선을 만드는데, 이 접점이 이차함수의 최솟값, 즉, 총오류의 최소가 된다."
   ]
  },
  {
   "cell_type": "markdown",
   "metadata": {},
   "source": [
    "yhat=x*1.4+3.5\n",
    "print(yhat) #y값이 약간의 오차는 있지만 근사한다."
   ]
  },
  {
   "cell_type": "code",
   "execution_count": 8,
   "metadata": {},
   "outputs": [
    {
     "data": {
      "text/plain": [
       "array([-1.1,  1.3,  0.7, -0.9])"
      ]
     },
     "execution_count": 8,
     "metadata": {},
     "output_type": "execute_result"
    }
   ],
   "source": [
    "yhat-y #실제 편차 = 오류"
   ]
  },
  {
   "cell_type": "code",
   "execution_count": 9,
   "metadata": {},
   "outputs": [
    {
     "data": {
      "text/plain": [
       "4.199999999999998"
      ]
     },
     "execution_count": 9,
     "metadata": {},
     "output_type": "execute_result"
    }
   ],
   "source": [
    "np.sum(np.power(yhat-y,2)) #오류의 제곱의 합 = 오류의 크기"
   ]
  },
  {
   "cell_type": "markdown",
   "metadata": {},
   "source": [
    "Python으로 위의 계산과정을 구현해보자"
   ]
  },
  {
   "cell_type": "code",
   "execution_count": 10,
   "metadata": {},
   "outputs": [],
   "source": [
    "import sympy as sp\n",
    "b0,b1=sp.symbols('b0 b1') #b0, b1을 변수로 선언"
   ]
  },
  {
   "cell_type": "code",
   "execution_count": 12,
   "metadata": {},
   "outputs": [
    {
     "name": "stdout",
     "output_type": "stream",
     "text": [
      "('fdiff with b0: ', 8*b0 + 20*b1 - 56, 'fdiff with b1: ', 20*b0 + 60*b1 - 154)\n"
     ]
    }
   ],
   "source": [
    "f=210 + 4*b0**2 + 30*b1**2 + 20*b0*b1 - 56*b0 - 154*b1 #f=210+4β^20+30β^21+20β0β1−56β0−154β1\n",
    "fdiff_b0=sp.diff(f,b0) #diff(f,b0)는 f함수를 b0에 대해서 미분하는 명령어\n",
    "fdiff_b1=sp.diff(f,b1)\n",
    "print(\"fdiff with b0: \",fdiff_b0,\"fdiff with b1: \",fdiff_b1)"
   ]
  },
  {
   "cell_type": "code",
   "execution_count": 13,
   "metadata": {},
   "outputs": [
    {
     "name": "stdout",
     "output_type": "stream",
     "text": [
      "exp={b0: 7/2, b1: 7/5}\n"
     ]
    }
   ],
   "source": [
    "exp=sp.solve([fdiff_b0, fdiff_b1],[b0,b1]) #solve()로 풀면 해를 구할 수 있다\n",
    "print(\"exp={0}\".format(exp))"
   ]
  },
  {
   "cell_type": "markdown",
   "metadata": {},
   "source": [
    "# R2"
   ]
  },
  {
   "cell_type": "markdown",
   "metadata": {},
   "source": [
    "종속변수 dependent variable의 분산을 독립변수 independent variable(s)로 얼마나 예측할 수 있는지를 나타낸다.\n",
    "\n",
    "    종속변수 : y, 독립변수 : x   -> y의 산포도를 나타낸다.\n",
    "    \n",
    "    TSS (Total Sum of Squared Errors ) = SSE (Sum of squared errors) + SSR (Residual Sum of squared errors)\n",
    "    Residual : 잔여의\n",
    "    r2=SSR/TSS 이 값이 높을수록 좋다.(종속변수에 대한 제어력이 있다.)"
   ]
  },
  {
   "cell_type": "code",
   "execution_count": 14,
   "metadata": {},
   "outputs": [],
   "source": [
    "import numpy as np\n",
    "x=np.arange(0,9) #0..8\n",
    "y=np.array([19, 20, 20.5, 21.5, 22, 23, 23, 25.5, 24]) #y=ax1+bx2"
   ]
  },
  {
   "cell_type": "code",
   "execution_count": 15,
   "metadata": {},
   "outputs": [
    {
     "name": "stdout",
     "output_type": "stream",
     "text": [
      "[[0. 1. 2. 3. 4. 5. 6. 7. 8.]\n",
      " [1. 1. 1. 1. 1. 1. 1. 1. 1.]]\n"
     ]
    }
   ],
   "source": [
    "A=np.array([x,np.ones(9)]) #np.ones -> 1을 넣어 절편을 구해보자\n",
    "print A"
   ]
  },
  {
   "cell_type": "markdown",
   "metadata": {},
   "source": [
    "numpy listsq를 사용하여 데이터의 회귀식 계수 w0, w1을 계산한다"
   ]
  },
  {
   "cell_type": "code",
   "execution_count": 16,
   "metadata": {},
   "outputs": [
    {
     "name": "stdout",
     "output_type": "stream",
     "text": [
      "0.7166666666666671 19.188888888888894\n"
     ]
    },
    {
     "name": "stderr",
     "output_type": "stream",
     "text": [
      "C:\\Users\\G312\\Anaconda2\\lib\\site-packages\\ipykernel_launcher.py:1: FutureWarning: `rcond` parameter will change to the default of machine precision times ``max(M, N)`` where M and N are the input matrix dimensions.\n",
      "To use the future default and silence this warning we advise to pass `rcond=None`, to keep using the old, explicitly pass `rcond=-1`.\n",
      "  \"\"\"Entry point for launching an IPython kernel.\n"
     ]
    }
   ],
   "source": [
    "w0,w1=np.linalg.lstsq(A.T,y)[0]\n",
    "print w0,w1"
   ]
  },
  {
   "cell_type": "code",
   "execution_count": 17,
   "metadata": {},
   "outputs": [
    {
     "name": "stdout",
     "output_type": "stream",
     "text": [
      "[19.18888889 19.90555556 20.62222222 21.33888889 22.05555556 22.77222222\n",
      " 23.48888889 24.20555556 24.92222222]\n"
     ]
    }
   ],
   "source": [
    "yhat=w0*x+w1\n",
    "print yhat"
   ]
  },
  {
   "cell_type": "code",
   "execution_count": 23,
   "metadata": {
    "scrolled": true
   },
   "outputs": [
    {
     "data": {
      "image/png": "[encoded data removed]",
      "text/plain": [
       "<Figure size 432x288 with 1 Axes>"
      ]
     },
     "metadata": {
      "needs_background": "light"
     },
     "output_type": "display_data"
    }
   ],
   "source": [
    "%matplotlib inline\n",
    "import matplotlib.pyplot as plt\n",
    "plt.plot(x,yhat,'r-',x,y,'go') #빨간 실선 (r-), 파란 점 (bo)\n",
    "plt.show()"
   ]
  },
  {
   "cell_type": "markdown",
   "metadata": {},
   "source": [
    "위의 그래프는 회귀 선형식(선)과 실제 값(점)이 같이 그려져 있는 그래프이다."
   ]
  },
  {
   "cell_type": "code",
   "execution_count": 25,
   "metadata": {},
   "outputs": [
    {
     "name": "stdout",
     "output_type": "stream",
     "text": [
      "0.9138385502471169\n"
     ]
    }
   ],
   "source": [
    "SSR=sum((y-yhat)**2)\n",
    "TSS=sum((y-np.mean(y))**2)\n",
    "r_squared=1-(float(SSR))/TSS\n",
    "print r_squared #약 0.91의 값이므로 매우 훌륭하다."
   ]
  },
  {
   "cell_type": "markdown",
   "metadata": {},
   "source": [
    "overfitting을 막기 위해 adjusted R-squared를 사용한다.\n",
    "\n",
    "R2 adjusted=1−((1−R2)(n−1)/n−k−1)\n",
    "\n",
    "    n : 데이터 개수, k : 독립변수 개수"
   ]
  },
  {
   "cell_type": "code",
   "execution_count": 26,
   "metadata": {},
   "outputs": [
    {
     "name": "stdout",
     "output_type": "stream",
     "text": [
      "0.8851180669961559\n"
     ]
    }
   ],
   "source": [
    "adjusted_r_squared = 1 - (1-r_squared)*(len(y)-1)/(len(y)-A.shape[0]-1)   # 0.9015 without -1\n",
    "print adjusted_r_squared"
   ]
  },
  {
   "cell_type": "code",
   "execution_count": 31,
   "metadata": {},
   "outputs": [
    {
     "name": "stdout",
     "output_type": "stream",
     "text": [
      "                            OLS Regression Results                            \n",
      "==============================================================================\n",
      "Dep. Variable:                      y   R-squared:                       0.914\n",
      "Model:                            OLS   Adj. R-squared:                  0.902\n",
      "Method:                 Least Squares   F-statistic:                     74.24\n",
      "Date:                Tue, 12 Nov 2019   Prob (F-statistic):           5.66e-05\n",
      "Time:                        17:29:34   Log-Likelihood:                -7.6827\n",
      "No. Observations:                   9   AIC:                             19.37\n",
      "Df Residuals:                       7   BIC:                             19.76\n",
      "Df Model:                           1                                         \n",
      "Covariance Type:            nonrobust                                         \n",
      "==============================================================================\n",
      "                 coef    std err          t      P>|t|      [0.025      0.975]\n",
      "------------------------------------------------------------------------------\n",
      "x1             0.7167      0.083      8.616      0.000       0.520       0.913\n",
      "const         19.1889      0.396     48.458      0.000      18.253      20.125\n",
      "==============================================================================\n",
      "Omnibus:                        4.624   Durbin-Watson:                   3.078\n",
      "Prob(Omnibus):                  0.099   Jarque-Bera (JB):                1.154\n",
      "Skew:                           0.773   Prob(JB):                        0.561\n",
      "Kurtosis:                       3.830   Cond. No.                         9.06\n",
      "==============================================================================\n",
      "\n",
      "Warnings:\n",
      "[1] Standard Errors assume that the covariance matrix of the errors is correctly specified.\n",
      "0.913838550247117 0.9015297717109909\n"
     ]
    }
   ],
   "source": [
    "import statsmodels.api as sm\n",
    "\n",
    "result = sm.OLS(y,A.T).fit()\n",
    "print result.summary()\n",
    "print result.rsquared, result.rsquared_adj"
   ]
  },
  {
   "cell_type": "markdown",
   "metadata": {},
   "source": [
    "# Matrix Inverse Method"
   ]
  },
  {
   "cell_type": "markdown",
   "metadata": {},
   "source": [
    "w^  최소해를 구해보자. \n",
    "\n",
    "    오류 e는 잔차를 제곱해서 더한 합계 'sum of squared residuals' 이다. \n",
    "    따라서, f=e.T×e=(y−wx)^T(y−wx)=y^Ty−2w(x^Ty)^T+w^Tx^Twx\n",
    "    T는 transpose, 전치행렬이다.\n",
    "    \n",
    "    위를 미분하면 ∂f∂w=0−2(x^Ty)+2wxTx\n",
    "    \n",
    "    위 미분 값을 0으로 놓고 풀면, −2x^Ty+2w^x^Tx=0\n",
    "    \n",
    "    위 식을 정리하면 w^=(XTX)−1X^Ty"
   ]
  },
  {
   "cell_type": "code",
   "execution_count": 33,
   "metadata": {},
   "outputs": [],
   "source": [
    "import numpy as np\n",
    "# 2*x1−4*x2=8 / 3*x1+6*x2=9\n",
    "y=[8,9]\n",
    "x=[[2,-4],[3,6]] #column이 두개 -> 속성이 2개이다"
   ]
  },
  {
   "cell_type": "code",
   "execution_count": 34,
   "metadata": {},
   "outputs": [
    {
     "name": "stdout",
     "output_type": "stream",
     "text": [
      "x:  [[2, -4], [3, 6]] y:  [8, 9]\n"
     ]
    }
   ],
   "source": [
    "print \"x: \", x, \"y: \", y"
   ]
  },
  {
   "cell_type": "code",
   "execution_count": 35,
   "metadata": {},
   "outputs": [
    {
     "name": "stdout",
     "output_type": "stream",
     "text": [
      "x inv: \n",
      "[[ 0.25  0.17]\n",
      " [-0.12  0.08]]\n"
     ]
    }
   ],
   "source": [
    "np.set_printoptions(precision=2, suppress=True) #출력 자릿수를 2자리로 제한\n",
    "\n",
    "xT = np.linalg.inv(x) #xT : 행렬 x의 역행렬\n",
    "print \"x inv: \\n\", xT "
   ]
  },
  {
   "cell_type": "code",
   "execution_count": 37,
   "metadata": {},
   "outputs": [
    {
     "name": "stdout",
     "output_type": "stream",
     "text": [
      "identity matrix 'x * xT': \n",
      "[[1. 0.]\n",
      " [0. 1.]]\n"
     ]
    }
   ],
   "source": [
    "print \"identity matrix 'x * xT': \\n\", np.dot(x,xT)\n",
    "#x*xT(행렬*역행렬) = 단위행렬(identity matrix)"
   ]
  },
  {
   "cell_type": "code",
   "execution_count": 38,
   "metadata": {},
   "outputs": [
    {
     "name": "stdout",
     "output_type": "stream",
     "text": [
      "[[1. 0.]\n",
      " [0. 1.]]\n"
     ]
    }
   ],
   "source": [
    "print np.eye(2) #단위행렬 함수"
   ]
  },
  {
   "cell_type": "code",
   "execution_count": 39,
   "metadata": {},
   "outputs": [
    {
     "name": "stdout",
     "output_type": "stream",
     "text": [
      "[[ True  True]\n",
      " [ True  True]]\n"
     ]
    }
   ],
   "source": [
    "print np.eye(2) == np.dot(x,xT)"
   ]
  },
  {
   "cell_type": "markdown",
   "metadata": {},
   "source": [
    "# β"
   ]
  },
  {
   "cell_type": "markdown",
   "metadata": {},
   "source": [
    "위 식을 행렬로 나타내면, β×x=y\n",
    "양변에 x^−1를 곱하면 아래 식이 된다.\n",
    "\n",
    "x^−1×x×β=x^−1×y\n",
    "\n",
    "inverse에 원래의 벡터를 곱하면 identity matrix가 된다.\n",
    "\n",
    "즉 x^−1×x=1이므로\n",
    "\n",
    "아래와 같이 β를 구할 수 있다.\n",
    "\n",
    "β=x^−1×y"
   ]
  },
  {
   "cell_type": "markdown",
   "metadata": {},
   "source": [
    "Inverse 계산\n",
    "    \n",
    "    xx−1=I 인 x−1가 존재하면 x는 invertible이라고 한다.\n",
    "\n",
    "np.array()는 np.linalg.inv(), np.mat()는 x.I로 inverse를 계산한다."
   ]
  },
  {
   "cell_type": "code",
   "execution_count": 40,
   "metadata": {},
   "outputs": [
    {
     "name": "stdout",
     "output_type": "stream",
     "text": [
      "v=[[2 3]\n",
      " [4 5]]\n",
      "v.I=[[-2.5  1.5]\n",
      " [ 2.  -1. ]]\n"
     ]
    }
   ],
   "source": [
    "v=np.array([[2,3],[4,5]])\n",
    "vI=np.linalg.inv(v)\n",
    "print \"v={0}\\nv.I={1}\".format(v,vI) #([[-2.5, 1.5], [ 2. , -1. ]])"
   ]
  },
  {
   "cell_type": "code",
   "execution_count": 41,
   "metadata": {},
   "outputs": [
    {
     "name": "stdout",
     "output_type": "stream",
     "text": [
      "[-2.5  1.5  2.  -1. ]\n"
     ]
    }
   ],
   "source": [
    "left=1./(2*5-3*4)\n",
    "right=np.array([5,-3,-4,2])\n",
    "print left*right #array([-2.5,  1.5,  2. , -1. ])"
   ]
  },
  {
   "cell_type": "code",
   "execution_count": null,
   "metadata": {},
   "outputs": [],
   "source": []
  }
 ],
 "metadata": {
  "kernelspec": {
   "display_name": "Python 2",
   "language": "python",
   "name": "python2"
  },
  "language_info": {
   "codemirror_mode": {
    "name": "ipython",
    "version": 2
   },
   "file_extension": ".py",
   "mimetype": "text/x-python",
   "name": "python",
   "nbconvert_exporter": "python",
   "pygments_lexer": "ipython2",
   "version": "2.7.16"
  }
 },
 "nbformat": 4,
 "nbformat_minor": 2
}
