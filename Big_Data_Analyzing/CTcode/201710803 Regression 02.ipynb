{
 "cells": [
  {
   "cell_type": "markdown",
   "metadata": {},
   "source": [
    "# 비선형 모델"
   ]
  },
  {
   "cell_type": "code",
   "execution_count": 1,
   "metadata": {},
   "outputs": [
    {
     "name": "stdout",
     "output_type": "stream",
     "text": [
      "     4     2\n",
      "0.2 x + 3 x - 7 x + 5\n"
     ]
    }
   ],
   "source": [
    "import numpy as np\n",
    "f=np.poly1d( [ 0.2, 0, 3, -7, 5 ] ) #높은 차수의 계수부터 적어준다.\n",
    "print f"
   ]
  },
  {
   "cell_type": "code",
   "execution_count": 2,
   "metadata": {},
   "outputs": [],
   "source": [
    "#선형 polyfit\n",
    "\n",
    "import numpy as np\n",
    "\n",
    "npoints = 20\n",
    "slope = 2\n",
    "offset = 3\n",
    "x = np.arange(npoints)\n",
    "y = slope * x + offset + np.random.normal(size=npoints)"
   ]
  },
  {
   "cell_type": "code",
   "execution_count": 3,
   "metadata": {},
   "outputs": [
    {
     "name": "stdout",
     "output_type": "stream",
     "text": [
      "[ 0  1  2  3  4  5  6  7  8  9 10 11 12 13 14 15 16 17 18 19]\n",
      "[ 4.17762994  6.12568082  7.52312327 10.09257825  9.59946172 12.85692136\n",
      " 13.97943706 15.8010532  18.69152964 20.07591614 24.51907192 25.91861794\n",
      " 28.33933928 29.86651525 33.56071686 32.64999065 34.35113699 36.712121\n",
      " 38.93345563 40.87604613]\n"
     ]
    }
   ],
   "source": [
    "print x\n",
    "print y"
   ]
  },
  {
   "cell_type": "code",
   "execution_count": 4,
   "metadata": {},
   "outputs": [
    {
     "name": "stdout",
     "output_type": "stream",
     "text": [
      "[1.99106292 3.3174194 ]\n"
     ]
    }
   ],
   "source": [
    "p = np.polyfit(x,y,1)\n",
    "print p"
   ]
  },
  {
   "cell_type": "code",
   "execution_count": 5,
   "metadata": {},
   "outputs": [
    {
     "name": "stdout",
     "output_type": "stream",
     "text": [
      " \n",
      "1.991 x + 3.317\n"
     ]
    }
   ],
   "source": [
    "f=np.poly1d(p)\n",
    "print f"
   ]
  },
  {
   "cell_type": "code",
   "execution_count": 6,
   "metadata": {},
   "outputs": [
    {
     "data": {
      "text/plain": [
       "<Figure size 640x480 with 1 Axes>"
      ]
     },
     "metadata": {},
     "output_type": "display_data"
    }
   ],
   "source": [
    "#그래프\n",
    "\n",
    "import matplotlib.pyplot as plt\n",
    "f = np.poly1d(p)                # So we can call f(x)\n",
    "fig = plt.figure()\n",
    "ax  = fig.add_subplot(111)\n",
    "plt.plot(x, y, 'bo', label=\"Data\")\n",
    "plt.plot(x,f(x), 'b-',label=\"Polyfit\")\n",
    "plt.show()"
   ]
  },
  {
   "cell_type": "code",
   "execution_count": 7,
   "metadata": {},
   "outputs": [],
   "source": [
    "#비선형 polyfit\n",
    "\n",
    "# 1) numpy.poly1d one-dimensional polynomial class\n",
    "import numpy as np\n",
    "\n",
    "x=np.linspace(1,7,50)\n",
    "y=np.sin(x)\n",
    "x = np.array([10, 20, 30, 40, 50])\n",
    "y = np.array([20, 40, 30, 10, 40])"
   ]
  },
  {
   "cell_type": "code",
   "execution_count": 8,
   "metadata": {},
   "outputs": [
    {
     "data": {
      "text/plain": [
       "<matplotlib.collections.PathCollection at 0x8c4b7b8>"
      ]
     },
     "execution_count": 8,
     "metadata": {},
     "output_type": "execute_result"
    },
    {
     "data": {
      "image/png": "[encoded data removed]",
      "text/plain": [
       "<Figure size 432x288 with 1 Axes>"
      ]
     },
     "metadata": {
      "needs_background": "light"
     },
     "output_type": "display_data"
    }
   ],
   "source": [
    "%matplotlib inline\n",
    "\n",
    "import matplotlib.pyplot as plt\n",
    "plt.scatter(x,y)"
   ]
  },
  {
   "cell_type": "code",
   "execution_count": 9,
   "metadata": {},
   "outputs": [
    {
     "data": {
      "text/plain": [
       "array([ 1.,  2.,  3.,  4.,  5.,  6.,  7.,  8.,  9., 10.])"
      ]
     },
     "execution_count": 9,
     "metadata": {},
     "output_type": "execute_result"
    }
   ],
   "source": [
    "np.linspace(1,10,10)\n",
    "#np.arange(1,10)"
   ]
  },
  {
   "cell_type": "code",
   "execution_count": 10,
   "metadata": {},
   "outputs": [
    {
     "name": "stdout",
     "output_type": "stream",
     "text": [
      "coefficients= [ 6.66666667e-03 -5.92857143e-01  1.54047619e+01 -8.20000000e+01]\n",
      "polynomial=           3          2\n",
      "0.006667 x - 0.5929 x + 15.4 x - 82\n"
     ]
    }
   ],
   "source": [
    "coefficients=np.polyfit(x,y,3)\n",
    "polynomial=np.poly1d(coefficients)\n",
    "print \"coefficients=\",coefficients\n",
    "print \"polynomial=\",polynomial"
   ]
  },
  {
   "cell_type": "code",
   "execution_count": 11,
   "metadata": {},
   "outputs": [
    {
     "data": {
      "image/png": "[encoded data removed]",
      "text/plain": [
       "<Figure size 432x288 with 1 Axes>"
      ]
     },
     "metadata": {
      "needs_background": "light"
     },
     "output_type": "display_data"
    }
   ],
   "source": [
    "#그래프 - 점에 근접하게 그려진다.\n",
    "plt.scatter(x,y)\n",
    "x50=np.arange(10,51)\n",
    "plt.plot(x50,polynomial(x50),'r-')\n",
    "plt.show()"
   ]
  },
  {
   "cell_type": "code",
   "execution_count": null,
   "metadata": {},
   "outputs": [],
   "source": []
  }
 ],
 "metadata": {
  "kernelspec": {
   "display_name": "Python 2",
   "language": "python",
   "name": "python2"
  },
  "language_info": {
   "codemirror_mode": {
    "name": "ipython",
    "version": 2
   },
   "file_extension": ".py",
   "mimetype": "text/x-python",
   "name": "python",
   "nbconvert_exporter": "python",
   "pygments_lexer": "ipython2",
   "version": "2.7.16"
  }
 },
 "nbformat": 4,
 "nbformat_minor": 2
}
