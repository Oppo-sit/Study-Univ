{
 "cells": [
  {
   "cell_type": "code",
   "execution_count": 1,
   "metadata": {},
   "outputs": [],
   "source": [
    "import os\n",
    "import sys \n",
    "\n",
    "os.environ[\"PYLIB\"]=os.path.join(os.environ[\"SPARK_HOME\"],'python','lib')\n",
    "sys.path.insert(0,os.path.join(os.environ[\"PYLIB\"],'py4j-0.10.1-src.zip'))\n",
    "sys.path.insert(0,os.path.join(os.environ[\"PYLIB\"],'pyspark.zip'))\n",
    "\n",
    "import pyspark\n",
    "myConf=pyspark.SparkConf()\n",
    "spark = pyspark.sql.SparkSession.builder\\\n",
    "    .master(\"local\")\\\n",
    "    .appName(\"myApp\")\\\n",
    "    .config(\"spark.sql.warehouse.dir\", \"C:/Users/JSM\")\\\n",
    "    .getOrCreate()"
   ]
  },
  {
   "cell_type": "code",
   "execution_count": 2,
   "metadata": {},
   "outputs": [
    {
     "name": "stdout",
     "output_type": "stream",
     "text": [
      "+---+\n",
      "| id|\n",
      "+---+\n",
      "|  0|\n",
      "|  1|\n",
      "|  2|\n",
      "|  3|\n",
      "|  4|\n",
      "|  5|\n",
      "|  6|\n",
      "|  7|\n",
      "|  8|\n",
      "|  9|\n",
      "+---+\n",
      "\n"
     ]
    },
    {
     "data": {
      "text/plain": [
       "DataFrame[id: bigint]"
      ]
     },
     "execution_count": 2,
     "metadata": {},
     "output_type": "execute_result"
    }
   ],
   "source": [
    "#분포 생성\n",
    "df =spark.range(0, 10) #id란 컬럼명으로 0~9를 입력\n",
    "df.show()\n",
    "df.select('id')"
   ]
  },
  {
   "cell_type": "code",
   "execution_count": 3,
   "metadata": {},
   "outputs": [
    {
     "name": "stdout",
     "output_type": "stream",
     "text": [
      "+---+-------------------+-------------------+\n",
      "| id|            uniform|             normal|\n",
      "+---+-------------------+-------------------+\n",
      "|  0|0.41371264720975787| 0.5888539012978773|\n",
      "|  1| 0.7311719281896606| 0.8645537008427937|\n",
      "|  2| 0.9031701155118229| 1.2524569684217643|\n",
      "|  3|0.09430205113458567| -2.573636861034734|\n",
      "|  4|0.38340505276222947| 0.5469737451926588|\n",
      "|  5| 0.5569246135523511|0.17431283601478723|\n",
      "|  6| 0.4977441406613893|-0.7040284633147095|\n",
      "|  7| 0.2076666106201438| 0.4637547571868822|\n",
      "|  8| 0.9571919406508957|  0.920722532496133|\n",
      "|  9| 0.7429395461204413|-1.4353459012380192|\n",
      "+---+-------------------+-------------------+\n",
      "\n"
     ]
    }
   ],
   "source": [
    "from pyspark.sql.functions import rand, randn\n",
    "colUniform = rand(seed=10).alias(\"uniform\") #rand() 균등분포(랜덤)\n",
    "colNormal = randn(seed=27).alias(\"normal\") #randn() 정규분포(랜덤) \n",
    "df3 = df.select(\"id\", colUniform, colNormal) #select 함수로 컬럼을 포함시킬 수 있다.\n",
    "df3.show()"
   ]
  },
  {
   "cell_type": "code",
   "execution_count": 4,
   "metadata": {},
   "outputs": [
    {
     "name": "stdout",
     "output_type": "stream",
     "text": [
      "+-------+------------------+-------------------+--------------------+\n",
      "|summary|                id|            uniform|              normal|\n",
      "+-------+------------------+-------------------+--------------------+\n",
      "|  count|                10|                 10|                  10|\n",
      "|   mean|               4.5| 0.5488228646413278|0.009861721586543392|\n",
      "| stddev|3.0276503540974917| 0.2856822245344392|  1.2126061129356596|\n",
      "|    min|                 0|0.09430205113458567|  -2.573636861034734|\n",
      "|    max|                 9| 0.9571919406508957|  1.2524569684217643|\n",
      "+-------+------------------+-------------------+--------------------+\n",
      "\n"
     ]
    }
   ],
   "source": [
    "#기본 통계\n",
    "df3.describe().show()"
   ]
  },
  {
   "cell_type": "code",
   "execution_count": 5,
   "metadata": {},
   "outputs": [
    {
     "name": "stdout",
     "output_type": "stream",
     "text": [
      "+---+---+---+\n",
      "|  a|  b|  c|\n",
      "+---+---+---+\n",
      "|  1|  2|  3|\n",
      "|  1|  2|  1|\n",
      "|  1|  2|  3|\n",
      "|  3|  6|  3|\n",
      "|  1|  2|  3|\n",
      "|  5| 10|  1|\n",
      "|  1|  2|  3|\n",
      "|  7| 14|  3|\n",
      "|  1|  2|  3|\n",
      "|  9| 18|  1|\n",
      "+---+---+---+\n",
      "only showing top 10 rows\n",
      "\n"
     ]
    }
   ],
   "source": [
    "#freqItems()\n",
    "\n",
    "#홀수행일 경우 (1, 2, 3) 아닐 경우 (i번쨰 행, 2*i, i%4)\n",
    "df=spark.createDataFrame([(1, 2, 3) if i%2 == 0 else (i, 2*i, i%4) for i in range(100)], [\"a\",\"b\",\"c\"])\n",
    "df.show(10)"
   ]
  },
  {
   "cell_type": "code",
   "execution_count": 6,
   "metadata": {},
   "outputs": [
    {
     "name": "stdout",
     "output_type": "stream",
     "text": [
      "+-----------+-----------+-----------+\n",
      "|a_freqItems|b_freqItems|c_freqItems|\n",
      "+-----------+-----------+-----------+\n",
      "|        [1]|        [2]|        [3]|\n",
      "+-----------+-----------+-----------+\n",
      "\n",
      "None\n"
     ]
    }
   ],
   "source": [
    "freq = df.stat.freqItems([\"a\", \"b\", \"c\"], 0.6) #60% 이상 발생한 숫자(아이템)를 반환합니다\n",
    "print freq.show()"
   ]
  },
  {
   "cell_type": "code",
   "execution_count": null,
   "metadata": {},
   "outputs": [],
   "source": []
  }
 ],
 "metadata": {
  "kernelspec": {
   "display_name": "Python 2",
   "language": "python",
   "name": "python2"
  },
  "language_info": {
   "codemirror_mode": {
    "name": "ipython",
    "version": 2
   },
   "file_extension": ".py",
   "mimetype": "text/x-python",
   "name": "python",
   "nbconvert_exporter": "python",
   "pygments_lexer": "ipython2",
   "version": "2.7.16"
  }
 },
 "nbformat": 4,
 "nbformat_minor": 2
}
