{
 "cells": [
  {
   "cell_type": "code",
   "execution_count": 1,
   "metadata": {},
   "outputs": [],
   "source": [
    "import os\n",
    "import sys \n",
    "\n",
    "os.environ[\"PYLIB\"]=os.path.join(os.environ[\"SPARK_HOME\"],'python','lib')\n",
    "sys.path.insert(0,os.path.join(os.environ[\"PYLIB\"],'py4j-0.10.1-src.zip'))\n",
    "sys.path.insert(0,os.path.join(os.environ[\"PYLIB\"],'pyspark.zip'))\n",
    "\n",
    "import pyspark\n",
    "myConf=pyspark.SparkConf()\n",
    "spark = pyspark.sql.SparkSession.builder\\\n",
    "    .master(\"local\")\\\n",
    "    .appName(\"myApp\")\\\n",
    "    .config(\"spark.sql.warehouse.dir\", \"C:/Users/JSM\")\\\n",
    "    .getOrCreate()"
   ]
  },
  {
   "cell_type": "code",
   "execution_count": 2,
   "metadata": {},
   "outputs": [
    {
     "name": "stdout",
     "output_type": "stream",
     "text": [
      "('fdiff with b0: ', 8*b0 + 20*b1 - 56, 'fdiff with b1: ', 20*b0 + 60*b1 - 154)\n",
      "exp={b0: 7/2, b1: 7/5}\n",
      "[[0. 1. 2. 3. 4. 5. 6. 7. 8.]\n",
      " [1. 1. 1. 1. 1. 1. 1. 1. 1.]]\n",
      "0.7166666666666678 19.18888888888889\n",
      "[19.18888889 19.90555556 20.62222222 21.33888889 22.05555556 22.77222222\n",
      " 23.48888889 24.20555556 24.92222222]\n"
     ]
    },
    {
     "name": "stderr",
     "output_type": "stream",
     "text": [
      "C:\\Users\\JSM\\Anaconda2\\lib\\site-packages\\ipykernel_launcher.py:32: FutureWarning: `rcond` parameter will change to the default of machine precision times ``max(M, N)`` where M and N are the input matrix dimensions.\n",
      "To use the future default and silence this warning we advise to pass `rcond=None`, to keep using the old, explicitly pass `rcond=-1`.\n"
     ]
    },
    {
     "data": {
      "image/png": "[encoded data removed]",
      "text/plain": [
       "<Figure size 432x288 with 1 Axes>"
      ]
     },
     "metadata": {
      "needs_background": "light"
     },
     "output_type": "display_data"
    },
    {
     "name": "stdout",
     "output_type": "stream",
     "text": [
      "0.9138385502471169\n",
      "0.8851180669961559\n",
      "                            OLS Regression Results                            \n",
      "==============================================================================\n",
      "Dep. Variable:                      y   R-squared:                       0.914\n",
      "Model:                            OLS   Adj. R-squared:                  0.902\n",
      "Method:                 Least Squares   F-statistic:                     74.24\n",
      "Date:                Tue, 17 Dec 2019   Prob (F-statistic):           5.66e-05\n",
      "Time:                        04:20:39   Log-Likelihood:                -7.6827\n",
      "No. Observations:                   9   AIC:                             19.37\n",
      "Df Residuals:                       7   BIC:                             19.76\n",
      "Df Model:                           1                                         \n",
      "Covariance Type:            nonrobust                                         \n",
      "==============================================================================\n",
      "                 coef    std err          t      P>|t|      [0.025      0.975]\n",
      "------------------------------------------------------------------------------\n",
      "x1             0.7167      0.083      8.616      0.000       0.520       0.913\n",
      "const         19.1889      0.396     48.458      0.000      18.253      20.125\n",
      "==============================================================================\n",
      "Omnibus:                        4.624   Durbin-Watson:                   3.078\n",
      "Prob(Omnibus):                  0.099   Jarque-Bera (JB):                1.154\n",
      "Skew:                           0.773   Prob(JB):                        0.561\n",
      "Kurtosis:                       3.830   Cond. No.                         9.06\n",
      "==============================================================================\n",
      "\n",
      "Warnings:\n",
      "[1] Standard Errors assume that the covariance matrix of the errors is correctly specified.\n",
      "0.9138385502471169 0.9015297717109908\n"
     ]
    },
    {
     "name": "stderr",
     "output_type": "stream",
     "text": [
      "C:\\Users\\JSM\\Anaconda2\\lib\\site-packages\\scipy\\stats\\stats.py:1416: UserWarning: kurtosistest only valid for n>=20 ... continuing anyway, n=9\n",
      "  \"anyway, n=%i\" % int(n))\n"
     ]
    }
   ],
   "source": [
    "#Python\n",
    "import numpy as np\n",
    "x=np.array([1,2,3,4])\n",
    "y=np.array([6,5,7,10])\n",
    "\n",
    "import matplotlib.pyplot as plt\n",
    "\n",
    "fig=plt.figure()\n",
    "ax=fig.add_subplot(111)\n",
    "ax.scatter(x,y)\n",
    "\n",
    "##미분(차분)으로 구하기\n",
    "import sympy as sp\n",
    "b0,b1=sp.symbols('b0 b1')\n",
    "\n",
    "f=210 + 4*b0**2 + 30*b1**2 + 20*b0*b1 - 56*b0 - 154*b1\n",
    "fdiff_b0=sp.diff(f,b0)\n",
    "fdiff_b1=sp.diff(f,b1)\n",
    "print(\"fdiff with b0: \",fdiff_b0,\"fdiff with b1: \",fdiff_b1)\n",
    "\n",
    "exp=sp.solve([fdiff_b0, fdiff_b1],[b0,b1])\n",
    "print(\"exp={0}\".format(exp))\n",
    "\n",
    "##전치행렬, R^2\n",
    "import numpy as np\n",
    "x=np.arange(0,9)\n",
    "y=np.array([19, 20, 20.5, 21.5, 22, 23, 23, 25.5, 24])\n",
    "\n",
    "A=np.array([x,np.ones(9)])\n",
    "print A\n",
    "\n",
    "w0,w1=np.linalg.lstsq(A.T,y)[0]\n",
    "print w0,w1\n",
    "\n",
    "yhat=w0*x+w1\n",
    "print yhat\n",
    "\n",
    "%matplotlib inline\n",
    "import matplotlib.pyplot as plt\n",
    "plt.plot(x,yhat,'r-',x,y,'bo')\n",
    "plt.show()\n",
    "\n",
    "SSR = sum((y-yhat)**2)\n",
    "TSS = sum((y-np.mean(y))**2)\n",
    "r_squared = 1 - (float(SSR))/TSS\n",
    "print r_squared\n",
    "\n",
    "adjusted_r_squared = 1 - (1-r_squared)*(len(y)-1)/(len(y)-A.shape[0]-1)   #개선 R^2\n",
    "print adjusted_r_squared \n",
    "\n",
    "import statsmodels.api as sm\n",
    "result = sm.OLS(y,A.T).fit()\n",
    "print result.summary()\n",
    "print result.rsquared, result.rsquared_adj #스탯스모델, 주요 메소드와 스탯을 알 수 있다."
   ]
  },
  {
   "cell_type": "code",
   "execution_count": 3,
   "metadata": {},
   "outputs": [
    {
     "name": "stdout",
     "output_type": "stream",
     "text": [
      "x inv: \n",
      "[[ 0.25  0.17]\n",
      " [-0.12  0.08]]\n",
      "identity matrix 'x * xI': \n",
      "[[1. 0.]\n",
      " [0. 1.]]\n",
      "identity matrix 'x * xI': \n",
      "[[1. 0.]\n",
      " [0. 1.]]\n",
      "(3.5, -0.25)\n",
      "8.0\n",
      "9.0\n",
      "[ 3.5  -0.25]\n"
     ]
    }
   ],
   "source": [
    "#Matrix Inverse Method\n",
    "\n",
    "import numpy as np\n",
    "\n",
    "y=[8,9]\n",
    "x=[[2,-4],[3,6]]\n",
    "\n",
    "np.set_printoptions(precision=2, suppress=True) #출력 자릿 수 2자리 제한\n",
    "\n",
    "xI = np.linalg.inv(x) #역함수\n",
    "print \"x inv: \\n\", xI\n",
    "\n",
    "print \"identity matrix 'x * xI': \\n\", np.dot(x,xI) #x와 x1의 내적은 단위행렬\n",
    "\n",
    "print \"identity matrix 'x * xI': \\n\", np.dot(x,xI) #numpy 기능도 있다.\n",
    "\n",
    "##베타 : x의 역행렬 X y\n",
    "\n",
    "import numpy as np\n",
    "\n",
    "x=np.array([[2,-4],[3,6]])\n",
    "y=np.array([8,9])\n",
    "\n",
    "w1,w2=np.dot(xI,y)\n",
    "print(w1,w2) \n",
    "\n",
    "print 2*w1+(-4)*w2\n",
    "print 3*w1+6*w2 #실제 값을 구할 수 있다.\n",
    "\n",
    "print np.linalg.solve(x,y)"
   ]
  },
  {
   "cell_type": "code",
   "execution_count": 4,
   "metadata": {},
   "outputs": [
    {
     "name": "stdout",
     "output_type": "stream",
     "text": [
      "[[1. 1.]\n",
      " [2. 1.]\n",
      " [3. 1.]\n",
      " [4. 1.]]\n",
      "('weights=', array([1.4, 3.5]))\n"
     ]
    },
    {
     "name": "stderr",
     "output_type": "stream",
     "text": [
      "C:\\Users\\JSM\\Anaconda2\\lib\\site-packages\\ipykernel_launcher.py:35: FutureWarning: `rcond` parameter will change to the default of machine precision times ``max(M, N)`` where M and N are the input matrix dimensions.\n",
      "To use the future default and silence this warning we advise to pass `rcond=None`, to keep using the old, explicitly pass `rcond=-1`.\n"
     ]
    },
    {
     "data": {
      "text/plain": [
       "[<matplotlib.lines.Line2D at 0xf14c240>]"
      ]
     },
     "execution_count": 4,
     "metadata": {},
     "output_type": "execute_result"
    },
    {
     "data": {
      "image/png": "[encoded data removed]",
      "text/plain": [
       "<Figure size 432x288 with 1 Axes>"
      ]
     },
     "metadata": {
      "needs_background": "light"
     },
     "output_type": "display_data"
    }
   ],
   "source": [
    "#Matrix Inverse Method 회귀모델\n",
    "\n",
    "import numpy as np\n",
    "x=np.array([1,2,3,4])\n",
    "y=np.array([6,5,7,10])\n",
    "\n",
    "x=np.array([x,np.ones(len(x))])\n",
    "x=x.T\n",
    "print(x)\n",
    "\n",
    "np.dot(x,x.T) #이 다음에 역행렬로 구해야하지만 가역행렬이 아니라 오류가 생긴다. ->lstsq 사용\n",
    "\n",
    "xTx=np.dot(x.T,x)\n",
    "\n",
    "xTxI=np.linalg.inv(xTx)\n",
    "\n",
    "xTyT=np.dot(x.T,y)\n",
    "\n",
    "print(\"weights=\",np.dot(xTxI,xTyT))\n",
    "\n",
    "np.dot(np.linalg.inv(np.dot(x.T, x)), np.dot(x.T, y))\n",
    "\n",
    "\n",
    "##최소자승법으로 구해보자\n",
    "\n",
    "%matplotlib inline\n",
    "import matplotlib.pyplot as plt\n",
    "import numpy as np\n",
    "\n",
    "# compute yhat from the model values of b0 and b1\n",
    "x=np.array([1,2,3,4])\n",
    "y=np.array([6,5,7,10])\n",
    "_x=np.array([x,np.ones(len(x))])\n",
    "_x=_x.T\n",
    "b1,b0=np.linalg.lstsq(_x,y)[0]\n",
    "yhat=b0+b1*x\n",
    "fig=plt.figure()\n",
    "ax=fig.add_subplot(111)\n",
    "ax.scatter(x,y)\n",
    "ax.plot(x,yhat)"
   ]
  },
  {
   "cell_type": "code",
   "execution_count": 5,
   "metadata": {},
   "outputs": [
    {
     "name": "stdout",
     "output_type": "stream",
     "text": [
      "(1.3333333333333308, 1.0000000000000004)\n"
     ]
    },
    {
     "name": "stderr",
     "output_type": "stream",
     "text": [
      "C:\\Users\\JSM\\Anaconda2\\lib\\site-packages\\ipykernel_launcher.py:13: FutureWarning: `rcond` parameter will change to the default of machine precision times ``max(M, N)`` where M and N are the input matrix dimensions.\n",
      "To use the future default and silence this warning we advise to pass `rcond=None`, to keep using the old, explicitly pass `rcond=-1`.\n",
      "  del sys.path[0]\n"
     ]
    }
   ],
   "source": [
    "#Matrix Inverse Method 회귀모델 2\n",
    "\n",
    "import numpy as np\n",
    "x1=np.array([[1,2],[1,4],[1,6]]) #'1'열이 이번엔 앞에 있다.\n",
    "y1=np.array([3,6,7])\n",
    "\n",
    "xTx=np.dot(x1.T,x1) #위와 비교해 전치행렬이 앞에 있다.\n",
    "xTxI=np.linalg.inv(xTx)\n",
    "xTyT=np.dot(x1.T,y1)\n",
    "\n",
    "np.dot(np.linalg.inv(np.dot(x1.T, x1)), np.dot(x1.T, y1))\n",
    "\n",
    "w0, w1 = np.linalg.lstsq(x1, y1)[0] #가중치(b0, b1) #위와 비교해 가중치의 순서가 바뀌어있다.\n",
    "print(w0,w1)"
   ]
  },
  {
   "cell_type": "code",
   "execution_count": 6,
   "metadata": {},
   "outputs": [
    {
     "name": "stdout",
     "output_type": "stream",
     "text": [
      "i\t오류\ty\t예측\n",
      "--\t-----\t-----\t-----\n",
      " 0\t-0.33 =\t 3  -\t3.33\n",
      " 1\t0.67 =\t 6  -\t5.33\n",
      " 2\t-0.33 =\t 7  -\t7.33\n",
      "[[3.33]\n",
      " [5.33]\n",
      " [7.33]]\n"
     ]
    }
   ],
   "source": [
    "#오류 계산\n",
    "print \"i\\t오류\\ty\\t예측\"\n",
    "print \"--\\t-----\\t-----\\t-----\"\n",
    "for i in range(len(x1)):\n",
    "    predicted=w0*x1[i][0] + w1*x1[i][1]\n",
    "    error=y1[i]-predicted\n",
    "    print(\"{0:2d}\\t{1:.2f} =\\t {2}  -\\t{3:.2f}\".format(i,error,y1[i],predicted))\n",
    "    \n",
    "w=np.array([w0,w1])\n",
    "x1.shape,w.shape #x1과 w의 차원이 다르다\n",
    "w=w[:,np.newaxis] #차원을 맞추어준다.\n",
    "pred=np.dot(x1,w) #구한 가중치로 예측값을 구할 수 있다.\n",
    "print pred"
   ]
  },
  {
   "cell_type": "code",
   "execution_count": 7,
   "metadata": {},
   "outputs": [
    {
     "name": "stdout",
     "output_type": "stream",
     "text": [
      "('weights=', matrix([[1.33],\n",
      "        [1.  ]]))\n"
     ]
    }
   ],
   "source": [
    "#Matrix\n",
    "import numpy as np\n",
    "X=np.matrix([[1,2],[1,4],[1,6]])\n",
    "Y=np.matrix([3,6,7])\n",
    "xTx=X.T*X\n",
    "xTxI=xTx.I\n",
    "xTyT=X.T*Y.T\n",
    "print(\"weights=\",xTxI*xTyT)"
   ]
  },
  {
   "cell_type": "code",
   "execution_count": null,
   "metadata": {},
   "outputs": [],
   "source": []
  }
 ],
 "metadata": {
  "kernelspec": {
   "display_name": "Python 2",
   "language": "python",
   "name": "python2"
  },
  "language_info": {
   "codemirror_mode": {
    "name": "ipython",
    "version": 2
   },
   "file_extension": ".py",
   "mimetype": "text/x-python",
   "name": "python",
   "nbconvert_exporter": "python",
   "pygments_lexer": "ipython2",
   "version": "2.7.16"
  }
 },
 "nbformat": 4,
 "nbformat_minor": 2
}
