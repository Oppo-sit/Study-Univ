{
 "cells": [
  {
   "cell_type": "code",
   "execution_count": 1,
   "metadata": {},
   "outputs": [],
   "source": [
    "import os\n",
    "import sys \n",
    "\n",
    "os.environ[\"PYLIB\"]=os.path.join(os.environ[\"SPARK_HOME\"],'python','lib')\n",
    "sys.path.insert(0,os.path.join(os.environ[\"PYLIB\"],'py4j-0.10.1-src.zip'))\n",
    "sys.path.insert(0,os.path.join(os.environ[\"PYLIB\"],'pyspark.zip'))\n",
    "\n",
    "import pyspark\n",
    "myConf=pyspark.SparkConf()\n",
    "spark = pyspark.sql.SparkSession.builder\\\n",
    "    .master(\"local\")\\\n",
    "    .appName(\"myApp\")\\\n",
    "    .config(\"spark.sql.warehouse.dir\", \"C:/Users/JSM\")\\\n",
    "    .getOrCreate()"
   ]
  },
  {
   "cell_type": "code",
   "execution_count": 3,
   "metadata": {
    "scrolled": true
   },
   "outputs": [
    {
     "name": "stdout",
     "output_type": "stream",
     "text": [
      "[[1. 1.]\n",
      " [2. 1.]\n",
      " [3. 1.]\n",
      " [4. 1.]] (4L, 2L)\n",
      "[1. 1.]\n",
      "-7.0\n",
      "[-37. -14.]\n",
      "[1.37 1.14]\n",
      "Iteration 0 | theta [1.37 1.14] Cost 6.75000\n",
      "Iteration 100 | theta [1.79291203 2.34479071] Cost 0.63779\n",
      "Iteration 200 | theta [1.61550957 2.86637557] Cost 0.55893\n",
      "Iteration 300 | theta [1.51820553 3.15246131] Cost 0.53521\n",
      "Iteration 400 | theta [1.46483493 3.3093774 ] Cost 0.52807\n",
      "Iteration 500 | theta [1.43556152 3.3954448 ] Cost 0.52592\n",
      "Iteration 600 | theta [1.41950525 3.44265218] Cost 0.52528\n",
      "Iteration 700 | theta [1.4106985  3.46854511] Cost 0.52508\n",
      "Iteration 800 | theta [1.40586805 3.48274721] Cost 0.52503\n",
      "Iteration 900 | theta [1.40321859 3.49053696] Cost 0.52501\n",
      "Iteration 1000 | theta [1.40176537 3.49480959] Cost 0.52500\n",
      "Iteration 1100 | theta [1.4009683  3.49715309] Cost 0.52500\n",
      "Iteration 1200 | theta [1.4005311  3.49843849] Cost 0.52500\n",
      "Iteration 1300 | theta [1.40029131 3.49914352] Cost 0.52500\n",
      "Iteration 1400 | theta [1.40015978 3.49953023] Cost 0.52500\n",
      "Iteration 1500 | theta [1.40008764 3.49974233] Cost 0.52500\n",
      "Iteration 1600 | theta [1.40004807 3.49985867] Cost 0.52500\n",
      "Iteration 1700 | theta [1.40002637 3.49992248] Cost 0.52500\n",
      "Iteration 1800 | theta [1.40001446 3.49995748] Cost 0.52500\n",
      "Iteration 1900 | theta [1.40000793 3.49997668] Cost 0.52500\n",
      "Iteration 2000 | theta [1.40000435 3.49998721] Cost 0.52500\n",
      "Iteration 2100 | theta [1.40000239 3.49999298] Cost 0.52500\n",
      "Iteration 2200 | theta [1.40000131 3.49999615] Cost 0.52500\n",
      "Iteration 2300 | theta [1.40000072 3.49999789] Cost 0.52500\n",
      "Iteration 2400 | theta [1.40000039 3.49999884] Cost 0.52500\n",
      "Iteration 2500 | theta [1.40000022 3.49999937] Cost 0.52500\n",
      "Iteration 2600 | theta [1.40000012 3.49999965] Cost 0.52500\n",
      "Iteration 2700 | theta [1.40000006 3.49999981] Cost 0.52500\n",
      "Iteration 2800 | theta [1.40000004 3.4999999 ] Cost 0.52500\n",
      "Iteration 2900 | theta [1.40000002 3.49999994] Cost 0.52500\n",
      "Iteration 3000 | theta [1.40000001 3.49999997] Cost 0.52500\n",
      "Iteration 3100 | theta [1.40000001 3.49999998] Cost 0.52500\n",
      "Iteration 3200 | theta [1.4        3.49999999] Cost 0.52500\n",
      "Iteration 3300 | theta [1.4        3.49999999] Cost 0.52500\n",
      "Iteration 3400 | theta [1.4 3.5] Cost 0.52500\n",
      "Iteration 3500 | theta [1.4 3.5] Cost 0.52500\n",
      "Iteration 3600 | theta [1.4 3.5] Cost 0.52500\n",
      "Iteration 3700 | theta [1.4 3.5] Cost 0.52500\n",
      "Iteration 3800 | theta [1.4 3.5] Cost 0.52500\n",
      "Iteration 3900 | theta [1.4 3.5] Cost 0.52500\n"
     ]
    }
   ],
   "source": [
    "#경사하강법(전체 과정)\n",
    "\n",
    "import numpy as np\n",
    "x=np.array([1,2,3,4])\n",
    "y=np.array([6,5,7,10])\n",
    "#x=np.array([0.5,2.3,2.9])\n",
    "#y=np.array([1.4,1.9,3.2])\n",
    "\n",
    "x=np.array([x,np.ones(len(x))])  # w0 * x0 + w1 * x1\n",
    "x=x.T\n",
    "print x, x.shape\n",
    "\n",
    "theta=np.array(np.ones([x.shape[1]])) #세타 -> 기울기(변화값)\n",
    "print theta\n",
    "\n",
    "def h(x,theta): #h(x)\n",
    "    return np.dot(x,theta)\n",
    "\n",
    "h(x,theta)\n",
    "\n",
    "error=h(x,theta)-y\n",
    "print np.sum(y-h(x,theta))*(-2)/len(x)\n",
    "gradient=np.dot(x.T,error) #경사(초기값이라 오차 있을 수 밖에 없음)\n",
    "print gradient\n",
    "\n",
    "alpha=0.01 #학습률 : 지나치게 갱신되는 것을 막는다.\n",
    "theta -= alpha*gradient\n",
    "print theta \n",
    "\n",
    "#def gradientDescent(x, y, theta, alpha, m, numIterations):\n",
    "alpha=0.01\n",
    "numIterations=4000\n",
    "theta=np.ones([x.shape[1]])\n",
    "#theta=np.array([1,1])\n",
    "for i in range(numIterations):\n",
    "    h=np.dot(x,theta)\n",
    "    error=h-y\n",
    "    #gradient=[np.sum(y-h)*(-2), np.sum((y-h)*x)*(-2)]\n",
    "    cost = np.sum((h-y)** 2) / (2 * len(x))\n",
    "    gradient=np.dot(x.T,error) # w0, w1\n",
    "    theta -= alpha*gradient\n",
    "    if i%100 == 0:\n",
    "        print \"Iteration {0} | theta {1} Cost {2:.5f}\".format(i, theta, cost)\n",
    "#    return theta"
   ]
  },
  {
   "cell_type": "code",
   "execution_count": 5,
   "metadata": {
    "scrolled": true
   },
   "outputs": [
    {
     "name": "stdout",
     "output_type": "stream",
     "text": [
      "[19.18888889 19.90555556 20.62222222 21.33888889 22.05555556 22.77222222\n",
      " 23.48888889 24.20555556 24.92222222]\n"
     ]
    },
    {
     "name": "stderr",
     "output_type": "stream",
     "text": [
      "C:\\Users\\JSM\\Anaconda2\\lib\\site-packages\\ipykernel_launcher.py:9: FutureWarning: `rcond` parameter will change to the default of machine precision times ``max(M, N)`` where M and N are the input matrix dimensions.\n",
      "To use the future default and silence this warning we advise to pass `rcond=None`, to keep using the old, explicitly pass `rcond=-1`.\n",
      "  if __name__ == '__main__':\n"
     ]
    },
    {
     "data": {
      "image/png": "[encoded data removed]",
      "text/plain": [
       "<Figure size 432x288 with 1 Axes>"
      ]
     },
     "metadata": {
      "needs_background": "light"
     },
     "output_type": "display_data"
    },
    {
     "name": "stderr",
     "output_type": "stream",
     "text": [
      "C:\\Users\\JSM\\Anaconda2\\lib\\site-packages\\ipykernel_launcher.py:40: FutureWarning: `rcond` parameter will change to the default of machine precision times ``max(M, N)`` where M and N are the input matrix dimensions.\n",
      "To use the future default and silence this warning we advise to pass `rcond=None`, to keep using the old, explicitly pass `rcond=-1`.\n"
     ]
    },
    {
     "data": {
      "image/png": "[encoded data removed]",
      "text/plain": [
       "<Figure size 432x288 with 1 Axes>"
      ]
     },
     "metadata": {
      "needs_background": "light"
     },
     "output_type": "display_data"
    }
   ],
   "source": [
    "#회귀식 그래프 함수 with numpy\n",
    "import numpy as np\n",
    "\n",
    "x=np.arange(0,9)\n",
    "y=[19, 20, 20.5, 21.5, 22, 23, 23, 25.5, 24]\n",
    "\n",
    "A=np.array([x,np.ones(len(x))]) #상수도출 -> '1'행 추가\n",
    "\n",
    "w=np.linalg.lstsq(A.T,y)[0] #넘파이 회귀식\n",
    "fitted=w[0]*x+w[1]\n",
    "print fitted #갱신된 값\n",
    "\n",
    "%matplotlib inline\n",
    "\n",
    "import matplotlib.pyplot as plt\n",
    "import numpy as np\n",
    "\n",
    "plt.plot(x,fitted,'r-',x,y,'o',markersize=5)\n",
    "plt.show()\n",
    "\n",
    "##진짜 함수\n",
    "def drawRegress2d(x,y):\n",
    "    \"\"\"\n",
    "    Parameters\n",
    "    ----------\n",
    "        arg1: list or array\n",
    "        arg2: list or array\n",
    "    Returns\n",
    "    -------\n",
    "        None\n",
    "    Examples\n",
    "    --------\n",
    "        x=np.arange(0,9)\n",
    "        y=[19, 20, 20.5, 21.5, 22, 23, 23, 25.5, 24] \n",
    "        drawRegress2d(x,y)\n",
    "    \"\"\"\n",
    "    import matplotlib.pyplot as plt \n",
    "    import numpy as np\n",
    "    A=np.array([x,np.ones(len(x))])\n",
    "    w=np.linalg.lstsq(A.T,y)[0]\n",
    "    fitted=w[0]*x+w[1]\n",
    "    #plt.plot(x,y,'r-',xi,y,'o',markersize=5)\n",
    "    plt.plot(x, y, 'o-', label='Original data', markersize=5)\n",
    "    plt.plot(x, fitted, 'r', label='Fitted line') #원래값끼리도 연결\n",
    "    plt.show()\n",
    "    \n",
    "%matplotlib inline\n",
    "\n",
    "import numpy as np\n",
    "x=np.arange(0,9)\n",
    "y=[19, 20, 20.5, 21.5, 22, 23, 23, 25.5, 24] \n",
    "drawRegress2d(x,y)"
   ]
  },
  {
   "cell_type": "code",
   "execution_count": null,
   "metadata": {},
   "outputs": [],
   "source": []
  }
 ],
 "metadata": {
  "kernelspec": {
   "display_name": "Python 2",
   "language": "python",
   "name": "python2"
  },
  "language_info": {
   "codemirror_mode": {
    "name": "ipython",
    "version": 2
   },
   "file_extension": ".py",
   "mimetype": "text/x-python",
   "name": "python",
   "nbconvert_exporter": "python",
   "pygments_lexer": "ipython2",
   "version": "2.7.16"
  }
 },
 "nbformat": 4,
 "nbformat_minor": 2
}
