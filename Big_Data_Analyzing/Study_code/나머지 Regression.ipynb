{
 "cells": [
  {
   "cell_type": "code",
   "execution_count": 1,
   "metadata": {},
   "outputs": [],
   "source": [
    "import os\n",
    "import sys \n",
    "\n",
    "os.environ[\"PYLIB\"]=os.path.join(os.environ[\"SPARK_HOME\"],'python','lib')\n",
    "sys.path.insert(0,os.path.join(os.environ[\"PYLIB\"],'py4j-0.10.1-src.zip'))\n",
    "sys.path.insert(0,os.path.join(os.environ[\"PYLIB\"],'pyspark.zip'))\n",
    "\n",
    "import pyspark\n",
    "myConf=pyspark.SparkConf()\n",
    "spark = pyspark.sql.SparkSession.builder\\\n",
    "    .master(\"local\")\\\n",
    "    .appName(\"myApp\")\\\n",
    "    .config(\"spark.sql.warehouse.dir\", \"C:/Users/JSM\")\\\n",
    "    .getOrCreate()"
   ]
  },
  {
   "cell_type": "code",
   "execution_count": 2,
   "metadata": {},
   "outputs": [],
   "source": [
    "#Ridge : OLS + L2제약조건 함수, 오류 계산 등은 다른 페이지 참조\n",
    "\n",
    "def ridgeGradientDescent(x, y, alpha, iters, L):\n",
    "    x=np.matrix(x)\n",
    "    y=np.matrix(y).T\n",
    "    m, n = np.shape(x)\n",
    "    beta = np.matrix(np.ones(n)).transpose()\n",
    "    XT = x.transpose()\n",
    "    for i in range(0, iters):\n",
    "        yhat = np.dot(x, beta)\n",
    "        residuals = yhat - y\n",
    "        MSE = (residuals.transpose()*residuals)/len(x)\n",
    "        print \"iteration:\", i, \"MSE:\", MSE\n",
    "        ols_gradient = np.dot(XT, residuals) / m\n",
    "        beta = beta - alpha * (ols_gradient + (L/m)*beta)\n",
    "    return beta\n",
    "\n",
    "def ridgeWeights(xMat,yMat,lam=0.2):\n",
    "    xTx = xMat.T*xMat\n",
    "    xTxlamI = xTx + np.eye(np.shape(xMat)[1])*lam\n",
    "    if linalg.det(xTxlamI) == 0.0:\n",
    "        print \"This matrix is singular, cannot do inverse\"\n",
    "        return\n",
    "    ws = xTxlamI.I * (xMat.T*yMat)\n",
    "    return ws"
   ]
  },
  {
   "cell_type": "code",
   "execution_count": 5,
   "metadata": {},
   "outputs": [
    {
     "data": {
      "image/png": "[encoded data removed]",
      "text/plain": [
       "<Figure size 432x288 with 1 Axes>"
      ]
     },
     "metadata": {
      "needs_background": "light"
     },
     "output_type": "display_data"
    }
   ],
   "source": [
    "%matplotlib inline\n",
    "import matplotlib.pyplot as plt\n",
    "import numpy as np\n",
    "\n",
    "#선형 polyfit(다차 함수를 선형으로 그려준다.)\n",
    "import numpy as np\n",
    "f=np.poly1d( [ 0.2, 0, 3, -7, 5 ] ) #x^4/5+3*x^2-7x+5\n",
    "\n",
    "import numpy as np\n",
    "npoints = 20\n",
    "slope = 2\n",
    "offset = 3\n",
    "x = np.arange(npoints)\n",
    "y = slope * x + offset + np.random.normal(size=npoints) #무작위 수를 더한다.\n",
    "\n",
    "p = np.polyfit(x,y,1) #계수와 절편을 구할 수 있다.\n",
    "\n",
    "f=np.poly1d(p) #1차함수로 바뀐다.\n",
    "\n",
    "import matplotlib.pyplot as plt\n",
    "\n",
    "f = np.poly1d(p)\n",
    "fig = plt.figure()\n",
    "ax  = fig.add_subplot(111)\n",
    "plt.plot(x, y, 'bo', label=\"Data\")\n",
    "plt.plot(x,f(x), 'b-',label=\"Polyfit\")\n",
    "plt.show()"
   ]
  },
  {
   "cell_type": "code",
   "execution_count": 8,
   "metadata": {},
   "outputs": [
    {
     "name": "stdout",
     "output_type": "stream",
     "text": [
      "coefficients= [ 6.66666667e-03 -5.92857143e-01  1.54047619e+01 -8.20000000e+01]\n",
      "polynomial=           3          2\n",
      "0.006667 x - 0.5929 x + 15.4 x - 82\n"
     ]
    },
    {
     "data": {
      "image/png": "[encoded data removed]",
      "text/plain": [
       "<Figure size 432x288 with 1 Axes>"
      ]
     },
     "metadata": {
      "needs_background": "light"
     },
     "output_type": "display_data"
    }
   ],
   "source": [
    "#비선형 polypit\n",
    "import numpy as np\n",
    "\n",
    "x=np.linspace(1,7,50)\n",
    "y=np.sin(x)\n",
    "x = np.array([10, 20, 30, 40, 50])\n",
    "y = np.array([20, 40, 30, 10, 40])\n",
    "\n",
    "%matplotlib inline\n",
    "\n",
    "import matplotlib.pyplot as plt #수가 엄청 튄다.\n",
    "plt.scatter(x,y)\n",
    "\n",
    "np.linspace(1,10,10) #1부터 10까지\n",
    "\n",
    "coefficients=np.polyfit(x,y,3)\n",
    "polynomial=np.poly1d(coefficients)\n",
    "print \"coefficients=\",coefficients\n",
    "print \"polynomial=\",polynomial\n",
    "\n",
    "\n",
    "plt.scatter(x,y) #비선형 예측 모델 -> 선형보다 더 정확한 편\n",
    "x50=np.arange(10,51)\n",
    "plt.plot(x50,polynomial(x50),'r-')\n",
    "plt.show()"
   ]
  },
  {
   "cell_type": "code",
   "execution_count": null,
   "metadata": {},
   "outputs": [],
   "source": []
  }
 ],
 "metadata": {
  "kernelspec": {
   "display_name": "Python 2",
   "language": "python",
   "name": "python2"
  },
  "language_info": {
   "codemirror_mode": {
    "name": "ipython",
    "version": 2
   },
   "file_extension": ".py",
   "mimetype": "text/x-python",
   "name": "python",
   "nbconvert_exporter": "python",
   "pygments_lexer": "ipython2",
   "version": "2.7.16"
  }
 },
 "nbformat": 4,
 "nbformat_minor": 2
}
