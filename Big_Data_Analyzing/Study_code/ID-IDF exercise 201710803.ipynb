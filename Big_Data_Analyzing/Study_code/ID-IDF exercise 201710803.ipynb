{
 "cells": [
  {
   "cell_type": "code",
   "execution_count": 1,
   "metadata": {},
   "outputs": [],
   "source": [
    "import os\n",
    "import sys \n",
    "\n",
    "os.environ[\"PYLIB\"]=os.path.join(os.environ[\"SPARK_HOME\"],'python','lib')\n",
    "sys.path.insert(0,os.path.join(os.environ[\"PYLIB\"],'py4j-0.10.1-src.zip'))\n",
    "sys.path.insert(0,os.path.join(os.environ[\"PYLIB\"],'pyspark.zip'))\n",
    "\n",
    "import pyspark\n",
    "myConf=pyspark.SparkConf()\n",
    "spark = pyspark.sql.SparkSession.builder\\\n",
    "    .master(\"local\")\\\n",
    "    .appName(\"myApp\")\\\n",
    "    .config(\"spark.sql.warehouse.dir\", \"C:/Users/JSM\")\\\n",
    "    .getOrCreate()"
   ]
  },
  {
   "cell_type": "code",
   "execution_count": 8,
   "metadata": {},
   "outputs": [],
   "source": [
    "from pyspark.sql.types import StructType, StructField, StringType\n",
    "\n",
    "policeDf = spark.read\\\n",
    "    .option(\"header\", \"true\")\\\n",
    "    .option(\"delimiter\", \" \")\\\n",
    "    .option(\"inferSchema\",\"true\")\\\n",
    "    .schema(\n",
    "        StructType([\n",
    "            StructField(\"sent\", StringType()),\n",
    "        ])\n",
    "    )\\\n",
    "    .text(os.path.join(\"data\", \"policeAddress.txt\"))\n",
    "\n",
    "#모두 보고 싶으면 false"
   ]
  },
  {
   "cell_type": "code",
   "execution_count": 12,
   "metadata": {},
   "outputs": [
    {
     "name": "stdout",
     "output_type": "stream",
     "text": [
      "+---------------------------------------+\n",
      "|sent                                   |\n",
      "+---------------------------------------+\n",
      "|존경하는 국민 여러분, 경찰관 여러분, 일흔네 돌 ‘경찰의 날’입니다.|\n",
      "+---------------------------------------+\n",
      "only showing top 1 row\n",
      "\n"
     ]
    }
   ],
   "source": [
    "policeDf.show(1, False)"
   ]
  },
  {
   "cell_type": "code",
   "execution_count": 15,
   "metadata": {},
   "outputs": [
    {
     "name": "stdout",
     "output_type": "stream",
     "text": [
      "+--------------------+--------------------+\n",
      "|                sent|               words|\n",
      "+--------------------+--------------------+\n",
      "|존경하는 국민 여러분, 경찰관 ...|[존경하는, 국민, 여러분,, ...|\n",
      "|                    |                  []|\n",
      "+--------------------+--------------------+\n",
      "only showing top 2 rows\n",
      "\n"
     ]
    }
   ],
   "source": [
    "from pyspark.ml.feature import Tokenizer\n",
    "\n",
    "pToken = Tokenizer(inputCol = \"sent\", outputCol = \"words\")\n",
    "toDf = pToken.transform(policeDf)\n",
    "toDf.show(2)"
   ]
  },
  {
   "cell_type": "code",
   "execution_count": 18,
   "metadata": {},
   "outputs": [
    {
     "data": {
      "text/plain": [
       "StopWordsRemover_47d395e84c41a482d3c4"
      ]
     },
     "execution_count": 18,
     "metadata": {},
     "output_type": "execute_result"
    }
   ],
   "source": [
    "from pyspark.ml.feature import StopWordsRemover\n",
    "\n",
    "pStop = StopWordsRemover(inputCol = \"words\", outputCol = \"nostopP\")\n",
    "\n",
    "stopwords = []\n",
    "pStop.setStopWords([u\"나\", u\"우리\", u\"너\"])\n",
    "\n",
    "_myStopWords = [u\"돌\",u\"등\",u\"이미\"]\n",
    "for e in _myStopWords:\n",
    "    stopwords.append(e)\n",
    "pStop.setStopWords(stopwords)"
   ]
  },
  {
   "cell_type": "code",
   "execution_count": 20,
   "metadata": {},
   "outputs": [
    {
     "name": "stdout",
     "output_type": "stream",
     "text": [
      "+--------------------+--------------------+--------------------+\n",
      "|                sent|               words|             nostopP|\n",
      "+--------------------+--------------------+--------------------+\n",
      "|존경하는 국민 여러분, 경찰관 ...|[존경하는, 국민, 여러분,, ...|[존경하는, 국민, 여러분,, ...|\n",
      "|                    |                  []|                  []|\n",
      "|국민의 안전을 위해 밤낮없이 애...|[국민의, 안전을, 위해, 밤낮...|[국민의, 안전을, 위해, 밤낮...|\n",
      "|                    |                  []|                  []|\n",
      "|오늘 홍조근정훈장을 받으신 중앙...|[오늘, 홍조근정훈장을, 받으신...|[오늘, 홍조근정훈장을, 받으신...|\n",
      "|                    |                  []|                  []|\n",
      "|       사랑하는 경찰관 여러분,|   [사랑하는, 경찰관, 여러분,]|   [사랑하는, 경찰관, 여러분,]|\n",
      "+--------------------+--------------------+--------------------+\n",
      "only showing top 7 rows\n",
      "\n"
     ]
    }
   ],
   "source": [
    "stopDf=pStop.transform(toDf)\n",
    "stopDf.show(7)"
   ]
  },
  {
   "cell_type": "code",
   "execution_count": 21,
   "metadata": {},
   "outputs": [
    {
     "name": "stdout",
     "output_type": "stream",
     "text": [
      "[u'\\uc874\\uacbd\\ud558\\ub294', u'\\uad6d\\ubbfc', u'\\uc5ec\\ub7ec\\ubd84,', u'\\uacbd\\ucc30\\uad00', u'\\uc5ec\\ub7ec\\ubd84,', u'\\uc77c\\ud754\\ub124', u'\\u2018\\uacbd\\ucc30\\uc758', u'\\ub0a0\\u2019\\uc785\\ub2c8\\ub2e4.']\n",
      "[]\n",
      "[u'\\uad6d\\ubbfc\\uc758', u'\\uc548\\uc804\\uc744', u'\\uc704\\ud574', u'\\ubc24\\ub0ae\\uc5c6\\uc774', u'\\uc560\\uc4f0\\uc2dc\\ub294', u'\\uc804\\uad6d\\uc758', u'15\\ub9cc', u'\\uacbd\\ucc30\\uad00', u'\\uc5ec\\ub7ec\\ubd84\\uaed8', u'\\uba3c\\uc800', u'\\uac10\\uc0ac\\ub97c', u'\\ub4dc\\ub9bd\\ub2c8\\ub2e4.', u'\\uc804\\ubab0\\xb7\\uc21c\\uc9c1', u'\\uacbd\\ucc30\\uad00\\ub4e4\\uc758', u'\\uace0\\uadc0\\ud55c', u'\\ud76c\\uc0dd\\uc5d0', u'\\uacbd\\uc758\\ub97c', u'\\ud45c\\ud569\\ub2c8\\ub2e4.', u'\\uc720\\uac00\\uc871', u'\\uc5ec\\ub7ec\\ubd84\\uaed8', u'\\uc704\\ub85c\\uc758', u'\\ub9c8\\uc74c\\uc744', u'\\uc804\\ud569\\ub2c8\\ub2e4.']\n"
     ]
    }
   ],
   "source": [
    "for r in stopDf.select(\"nostopP\").take(3):\n",
    "    for e in r:\n",
    "        print e"
   ]
  },
  {
   "cell_type": "code",
   "execution_count": 25,
   "metadata": {},
   "outputs": [
    {
     "name": "stdout",
     "output_type": "stream",
     "text": [
      "+---------------------------------------+-------------------------------------------------+----------------------------------------------+--------------------------------------------------------+\n",
      "|sent                                   |words                                            |nostopP                                       |hashP                                                   |\n",
      "+---------------------------------------+-------------------------------------------------+----------------------------------------------+--------------------------------------------------------+\n",
      "|존경하는 국민 여러분, 경찰관 여러분, 일흔네 돌 ‘경찰의 날’입니다.|[존경하는, 국민, 여러분,, 경찰관, 여러분,, 일흔네, 돌, ‘경찰의, 날’입니다.]|[존경하는, 국민, 여러분,, 경찰관, 여러분,, 일흔네, ‘경찰의, 날’입니다.]|(50,[9,15,17,23,36,39,46],[2.0,1.0,1.0,1.0,1.0,1.0,1.0])|\n",
      "|                                       |[]                                               |[]                                            |(50,[],[])                                              |\n",
      "+---------------------------------------+-------------------------------------------------+----------------------------------------------+--------------------------------------------------------+\n",
      "only showing top 2 rows\n",
      "\n"
     ]
    }
   ],
   "source": [
    "from pyspark.ml.feature import HashingTF\n",
    "from pyspark.ml.feature import IDF\n",
    "\n",
    "pHash =  HashingTF(inputCol = \"nostopP\", outputCol = \"hashP\", numFeatures = 50)\n",
    "hashDf = pHash.transform(stopDf)\n"
   ]
  },
  {
   "cell_type": "code",
   "execution_count": 34,
   "metadata": {},
   "outputs": [
    {
     "name": "stdout",
     "output_type": "stream",
     "text": [
      "+--------------------+--------------------+--------------------+--------------------+--------------------+\n",
      "|                sent|               words|             nostopP|               hashP|               IDF_P|\n",
      "+--------------------+--------------------+--------------------+--------------------+--------------------+\n",
      "|존경하는 국민 여러분, 경찰관 ...|[존경하는, 국민, 여러분,, ...|[존경하는, 국민, 여러분,, ...|(50,[9,15,17,23,3...|(50,[9,15,17,23,3...|\n",
      "|                    |                  []|                  []|          (50,[],[])|          (50,[],[])|\n",
      "|국민의 안전을 위해 밤낮없이 애...|[국민의, 안전을, 위해, 밤낮...|[국민의, 안전을, 위해, 밤낮...|(50,[0,1,3,4,7,12...|(50,[0,1,3,4,7,12...|\n",
      "|                    |                  []|                  []|          (50,[],[])|          (50,[],[])|\n",
      "+--------------------+--------------------+--------------------+--------------------+--------------------+\n",
      "only showing top 4 rows\n",
      "\n"
     ]
    }
   ],
   "source": [
    "pIDF = IDF(inputCol = \"hashP\", outputCol = \"IDF_P\")\n",
    "pModel = pIDF.fit(hashDf)\n",
    "pDf = pModel.transform(hashDf)\n",
    "\n",
    "pDf.show(4, True)"
   ]
  },
  {
   "cell_type": "code",
   "execution_count": null,
   "metadata": {},
   "outputs": [],
   "source": []
  }
 ],
 "metadata": {
  "kernelspec": {
   "display_name": "Python 2",
   "language": "python",
   "name": "python2"
  },
  "language_info": {
   "codemirror_mode": {
    "name": "ipython",
    "version": 2
   },
   "file_extension": ".py",
   "mimetype": "text/x-python",
   "name": "python",
   "nbconvert_exporter": "python",
   "pygments_lexer": "ipython2",
   "version": "2.7.16"
  }
 },
 "nbformat": 4,
 "nbformat_minor": 2
}
